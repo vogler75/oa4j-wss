{
 "cells": [
  {
   "cell_type": "code",
   "execution_count": 1,
   "metadata": {},
   "outputs": [],
   "source": [
    "############################################################\n",
    "# Open Connection\n",
    "############################################################\n",
    "import json\n",
    "import ssl\n",
    "import datetime\n",
    "from websocket import create_connection\n",
    "url='ws://rocworks.no-ip.org/winccoa?username=demo&password=demo'\n",
    "ws = create_connection(url, sslopt={\"cert_reqs\": ssl.CERT_NONE})"
   ]
  },
  {
   "cell_type": "code",
   "execution_count": 2,
   "metadata": {},
   "outputs": [
    {
     "name": "stdout",
     "output_type": "stream",
     "text": [
      "{'DpGetPeriodResult': {'Values': {}, 'Error': 0}}\n",
      "no data found\n"
     ]
    }
   ],
   "source": [
    "############################################################\n",
    "# dpGetPeriod\n",
    "############################################################\n",
    "cmd={'DpGetPeriod': {\n",
    "        'Dps':['ExampleDP_Trend1.:_offline.._value', 'ExampleDP_Trend1.:_offline.._status'],\n",
    "        'T1': (datetime.datetime.now() - datetime.timedelta(minutes=60)).isoformat(), \n",
    "        'T2': (datetime.datetime.now() - datetime.timedelta(minutes=0)).isoformat(),\n",
    "        'Count': 0, # Optional (Default=0)\n",
    "        'Ts': 4 # Optional (0...no ts in result, 1...ts as ms since epoch, 2...ts as ISO8601)\n",
    "    }}\n",
    "ws.send(json.dumps(cmd))\n",
    "res=json.loads(ws.recv())\n",
    "print(res)\n",
    "if \"System1:ExampleDP_Trend1.:_offline.._value\" in res[\"DpGetPeriodResult\"][\"Values\"]:\n",
    "    values=res[\"DpGetPeriodResult\"][\"Values\"][\"System1:ExampleDP_Trend1.:_offline.._value\"]\n",
    "    print(values)\n",
    "else:\n",
    "    print(\"no data found\")"
   ]
  },
  {
   "cell_type": "code",
   "execution_count": 6,
   "metadata": {},
   "outputs": [
    {
     "data": {
      "image/png": "[encoded data removed]",
      "text/plain": [
       "<matplotlib.figure.Figure at 0x7c7eff0>"
      ]
     },
     "metadata": {},
     "output_type": "display_data"
    }
   ],
   "source": [
    "# Plot result of dpGetPeriod\n",
    "%matplotlib inline \n",
    "import matplotlib.pyplot as plt\n",
    "plt.plot(values)\n",
    "plt.ylabel('ExampleDP_Trend1.')\n",
    "plt.show()"
   ]
  },
  {
   "cell_type": "code",
   "execution_count": 3,
   "metadata": {},
   "outputs": [
    {
     "name": "stdout",
     "output_type": "stream",
     "text": [
      "{\n",
      "    \"DpGetResult\": {\n",
      "        \"Error\": 0,\n",
      "        \"Values\": {\n",
      "            \"System1:ExampleDP_Trend1.:_original.._value\": 6.0,\n",
      "            \"System1:ExampleDP_Trend2.:_original.._value\": 5.0\n",
      "        }\n",
      "    }\n",
      "}\n"
     ]
    }
   ],
   "source": [
    "############################################################\n",
    "# dpGet\n",
    "############################################################\n",
    "cmd={'DpGet': {'Dps':['ExampleDP_Trend1.', 'ExampleDP_Trend2.']}}\n",
    "ws.send(json.dumps(cmd))\n",
    "res=json.loads(ws.recv())\n",
    "print(json.dumps(res, indent=4, sort_keys=True))"
   ]
  },
  {
   "cell_type": "code",
   "execution_count": 6,
   "metadata": {},
   "outputs": [
    {
     "name": "stdout",
     "output_type": "stream",
     "text": [
      "{\n",
      "    \"Response\": {\n",
      "        \"Code\": 0,\n",
      "        \"Message\": \"\"\n",
      "    }\n",
      "}\n"
     ]
    }
   ],
   "source": [
    "############################################################\n",
    "# dpSet\n",
    "############################################################\n",
    "from random import randint\n",
    "cmd={'DpSet': {'Wait': True, \n",
    "              'Values':[{'Dp':'ExampleDP_Trend1.','Value': randint(0, 9)}, \n",
    "                        {'Dp':'ExampleDP_Trend2.','Value': randint(0, 9)}]}}\n",
    "ws.send(json.dumps(cmd))\n",
    "res=json.loads(ws.recv())\n",
    "print(json.dumps(res, indent=4, sort_keys=True))"
   ]
  },
  {
   "cell_type": "code",
   "execution_count": 3,
   "metadata": {},
   "outputs": [
    {
     "data": {
      "text/plain": [
       "60"
      ]
     },
     "execution_count": 3,
     "metadata": {},
     "output_type": "execute_result"
    },
    {
     "name": "stdout",
     "output_type": "stream",
     "text": [
      "{'DpConnectResult': {'Values': {'System1:ExampleDP_Trend1.:_online.._value': 1.0}, 'Error': 0, 'Id': 1}}\n"
     ]
    }
   ],
   "source": [
    "############################################################\n",
    "# dpConnect\n",
    "############################################################\n",
    "from threading import Thread\n",
    "\n",
    "def read():\n",
    "    while True:\n",
    "        res=json.loads(ws.recv())\n",
    "        print(res)\n",
    "Thread(target=read).start()\n",
    "    \n",
    "cmd={\"DpConnect\": {\"Id\": 1, \"Dps\": [\"ExampleDP_Trend1.\"]}}\n",
    "ws.send(json.dumps(cmd))"
   ]
  },
  {
   "cell_type": "code",
   "execution_count": 26,
   "metadata": {},
   "outputs": [
    {
     "name": "stdout",
     "output_type": "stream",
     "text": [
      "2018-02-08T09:11:05.746797\n"
     ]
    }
   ],
   "source": [
    "import datetime\n",
    "print((datetime.datetime.now() - datetime.timedelta(hours=1)).isoformat())"
   ]
  },
  {
   "cell_type": "code",
   "execution_count": null,
   "metadata": {},
   "outputs": [],
   "source": []
  }
 ],
 "metadata": {
  "kernelspec": {
   "display_name": "Python 3",
   "language": "python",
   "name": "python3"
  },
  "language_info": {
   "codemirror_mode": {
    "name": "ipython",
    "version": 3
   },
   "file_extension": ".py",
   "mimetype": "text/x-python",
   "name": "python",
   "nbconvert_exporter": "python",
   "pygments_lexer": "ipython3",
   "version": "3.6.4"
  }
 },
 "nbformat": 4,
 "nbformat_minor": 2
}
